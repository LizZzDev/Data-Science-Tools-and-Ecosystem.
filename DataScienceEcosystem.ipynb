{
 "cells": [
  {
   "cell_type": "markdown",
   "id": "63de7b50-ce31-4fe4-98ef-ae757b4eb58d",
   "metadata": {},
   "source": [
    "# Data Science Tools and Ecosystem"
   ]
  },
  {
   "cell_type": "markdown",
   "id": "cb6bbaf7-e32b-40f8-b99e-d0317659bd35",
   "metadata": {},
   "source": [
    "## Introduction."
   ]
  },
  {
   "cell_type": "markdown",
   "id": "47f1446c-580b-4502-96c7-72fecdbb12b4",
   "metadata": {},
   "source": [
    "In this notebook, Data Science Tools and Ecosystem are summarized."
   ]
  },
  {
   "cell_type": "markdown",
   "id": "4aeff135-e24d-4d7a-af5b-9f8cbe00119b",
   "metadata": {},
   "source": [
    "**Objectives**\n",
    "* List popular data science languages and libraries.\n",
    "* Explore data science tools.\n",
    "* Explain examples of simple arithmetic expresions. "
   ]
  },
  {
   "cell_type": "markdown",
   "id": "bb7880a4-2f1a-4cf0-aabe-c595af70594e",
   "metadata": {},
   "source": [
    "## Data Science Languages.\n",
    "Some of the popular languages that Data Scientists use are:\n",
    "1. Python.\n",
    "2. R.\n",
    "3. SQL.\n",
    "4. Java. \n",
    "5. Scala."
   ]
  },
  {
   "cell_type": "markdown",
   "id": "8e25e635-46ad-4d86-95dd-8c69fbeab8a7",
   "metadata": {},
   "source": [
    "## Data Science Libraries.\n",
    "Some of the commonly used libraries used by Data Scientists include:\n",
    "1. NumPy.\n",
    "2. Pandas. \n",
    "3. Matplotlib.\n",
    "4. ggplot.\n",
    "5. Scikit-learn.\n"
   ]
  },
  {
   "cell_type": "markdown",
   "id": "ff722f03-1de5-4d08-8959-7c5308bacc12",
   "metadata": {},
   "source": [
    "## Data Science Tools.\n",
    "| **Data Science Tools** |\n",
    "|----------------------|\n",
    "| Jupyter Notebook |\n",
    "| Apache Zeppelin |\n",
    "| RStudio |"
   ]
  },
  {
   "cell_type": "markdown",
   "id": "3abd651a-4b7c-46a1-9d60-8577f500fc19",
   "metadata": {},
   "source": [
    "## Arithmetic expression examples.\n",
    "Below are a few examples of evaluating arithmetic expressions in Python."
   ]
  },
  {
   "cell_type": "code",
   "execution_count": 4,
   "id": "1539efce-8d4d-4757-b90e-f3b31d0a558a",
   "metadata": {},
   "outputs": [
    {
     "data": {
      "text/plain": [
       "17"
      ]
     },
     "execution_count": 4,
     "metadata": {},
     "output_type": "execute_result"
    }
   ],
   "source": [
    "# This a simple arithmetic expression to mutiply then add integers.\n",
    "(3*4)+5"
   ]
  },
  {
   "cell_type": "code",
   "execution_count": 11,
   "id": "0ff30040-1da9-4f4d-913b-68bc169bef4f",
   "metadata": {},
   "outputs": [
    {
     "name": "stdout",
     "output_type": "stream",
     "text": [
      "200 minutes are 3 hours\n"
     ]
    }
   ],
   "source": [
    "#This operation will convert 200 minutes to hours by dividing by 60.\n",
    "minutes = 200\n",
    "hour = 60\n",
    "result = round(minutes/hour)\n",
    "print (minutes, \"minutes are\", result, \"hours\")"
   ]
  },
  {
   "cell_type": "markdown",
   "id": "bc80be54-1f84-4b22-b47e-84914217cf01",
   "metadata": {},
   "source": [
    "## Author name\n",
    "[Citlaly Lizeth Cruz Gomez](linkedin.com/in/citlaly-lizeth-cruz-gomez-295b5a2a8)"
   ]
  }
 ],
 "metadata": {
  "kernelspec": {
   "display_name": "Python 3 (ipykernel)",
   "language": "python",
   "name": "python3"
  },
  "language_info": {
   "codemirror_mode": {
    "name": "ipython",
    "version": 3
   },
   "file_extension": ".py",
   "mimetype": "text/x-python",
   "name": "python",
   "nbconvert_exporter": "python",
   "pygments_lexer": "ipython3",
   "version": "3.13.0"
  }
 },
 "nbformat": 4,
 "nbformat_minor": 5
}
